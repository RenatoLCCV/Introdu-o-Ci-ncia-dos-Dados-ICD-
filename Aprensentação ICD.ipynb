{
 "cells": [
  {
   "cell_type": "markdown",
   "metadata": {},
   "source": [
    "<h1>**Caracterização de processos hidrológicos em uma biorretenção**</h1>"
   ]
  },
  {
   "cell_type": "markdown",
   "metadata": {},
   "source": [
    "----------\n"
   ]
  },
  {
   "cell_type": "markdown",
   "metadata": {},
   "source": [
    "<h3>**Justificativas técnicas**</h3>\n"
   ]
  },
  {
   "cell_type": "markdown",
   "metadata": {},
   "source": [
    "------"
   ]
  },
  {
   "cell_type": "markdown",
   "metadata": {},
   "source": [
    "* O crescimento das grandes metrópoles parece ser imparável e até mesmo irreversível.\n",
    "\n",
    "* A principal matéria prima utilizada nas cidades são o concreto e asfalto.\n",
    "\n",
    "* A impermeabilização do solo das cidades é cada vez maior:\n",
    "\n",
    "    * Isso pode levar à enchentes e deslizamentos.\n",
    "    \n",
    "    \n",
    "* Busca por métodos compensatórios:\n",
    "\n",
    "    * Aumentar a absorção de água dos solos.\n",
    "    \n",
    "    \n",
    "* Biorretenção: método simples e barato, já usado no cotidiano (jardim de chuva):\n",
    "\n",
    "    * Aumenta a absorção de água do solo.\n",
    "    \n",
    "    * Também permite a “filtração” da água da chuva (vegetação).\n",
    "    \n",
    "* Incertezas:\n",
    "\n",
    "    * Não se sabe com exatidão da viabilidade construtiva delas.\n",
    "    \n",
    "    * Surge a necessidade de “pôr a mão na massa” e desenvolver testes em menor escala.\n",
    "\n"
   ]
  },
  {
   "cell_type": "markdown",
   "metadata": {},
   "source": [
    "-------------"
   ]
  },
  {
   "cell_type": "markdown",
   "metadata": {},
   "source": [
    "<h3>**Justificativas computacionais**</h3>\n"
   ]
  },
  {
   "cell_type": "markdown",
   "metadata": {},
   "source": [
    "-----------------"
   ]
  },
  {
   "cell_type": "markdown",
   "metadata": {},
   "source": [
    "* Necessidade da criação do software:\n",
    "\n",
    "    * Trabalha-se com uma grande quantidade de dados.\n",
    "    \n",
    "    * Os dados gerados pelos sensores e pluviômetro são brutos e desorganizados.\n",
    "    \n",
    "    * Os processos dos cálculos dos balanços hídricos e da geração de gráficos são repetitivos.\n",
    "    \n",
    "    * Até o momento, a organização dos dados, os balanços hídricos e a geração de gráficos são feitas manualmente, demandando muito tempo.\n"
   ]
  },
  {
   "cell_type": "markdown",
   "metadata": {},
   "source": [
    "-----"
   ]
  },
  {
   "cell_type": "markdown",
   "metadata": {},
   "source": [
    "<h3>**Objetivos**</h3>"
   ]
  },
  {
   "cell_type": "markdown",
   "metadata": {},
   "source": [
    "-----"
   ]
  },
  {
   "cell_type": "markdown",
   "metadata": {},
   "source": [
    "* Analisar a viabilidade construtiva da biorretenção através da análise de balanços quantitativos em um dispositivo de biorretenção instalado no CTEC/UFAL em escala experimental-demonstrativa.\n",
    "\n",
    "\n"
   ]
  },
  {
   "cell_type": "markdown",
   "metadata": {},
   "source": [
    "--------------"
   ]
  },
  {
   "cell_type": "markdown",
   "metadata": {},
   "source": [
    "<h3>**Objetivos específicos**</h3>"
   ]
  },
  {
   "cell_type": "markdown",
   "metadata": {},
   "source": [
    "-----"
   ]
  },
  {
   "cell_type": "markdown",
   "metadata": {},
   "source": [
    "* Obtenção dos dados a partir do modelo de biorretenção.\n",
    "* Caracterização dos processos hidrológicos da biorretenção através dos dados brutos obtidos.\n",
    "* A utilização dos diagramas/gráficos de balanços hídricos com o objetivo de se fazer uma avaliação qualitativa dos resultados.\n"
   ]
  },
  {
   "cell_type": "markdown",
   "metadata": {},
   "source": [
    "--------"
   ]
  },
  {
   "cell_type": "markdown",
   "metadata": {},
   "source": [
    "<h3>**Metodologia**</h3>"
   ]
  },
  {
   "cell_type": "markdown",
   "metadata": {},
   "source": [
    "-----"
   ]
  },
  {
   "cell_type": "markdown",
   "metadata": {},
   "source": [
    "1. Uso dos dados brutos gerados pelos sensores de nível e pluviômetro na biorretenção.\n",
    "Os dados estão nos formatos '.xls' e '.csv'\n",
    "\n",
    "2. Desenvolvimento do software:\n",
    "\n",
    "        2.1. Backend: Parte do programa responsável por organizar os dados\n",
    "        e fazer os cálculos dos balanços hídricos.\n",
    "        \n",
    "            2.1.1. Manipulação dos dados, usando bibliotecas da linguagem Python como\n",
    "            e Numpy será feita a manipulação dos dados brutos, colocando-os em um formato de melhor \n",
    "            legibilidade, além da execução dos cálculos necessários para a obtenção dos dados\n",
    "            indiretos (dados obtidos a partir de cálculos feitos com os dados medidos). \n",
    "\n",
    "            2.1.2. Criação de uma API, utilizando-se do framework Django-Rest. A API \n",
    "            (Application Programming Interface) permite a interoperabilidade\n",
    "            entre aplicações. Em outras palavras, a comunicação entre aplicações e entre os usuários. Através \n",
    "            da API é possível armazenar, ler, atualizare deletar dados de um banco de dados (item 2.1.3). \n",
    "\n",
    "            2.1.3. Criação de um banco de dados SQL (Structured Query Language). Para a sua construção e \n",
    "            manutenção, utilizaremos o framework Django, para que esses dados possam ser acessados com melhor\n",
    "            facilidade e eficiência pelo usuário.\n",
    "\n",
    "        2.2. Frontend: Parte do programa responsável pela interação com o usuário.\n",
    "            \n",
    "            2.2.1. O programa possuirá uma interface gráfica para interação com o usuário. \n",
    "            Esta interface será construída utilizando um Dashboard. \n",
    "            Este recurso é disponibilizado pela biblioteca Plotly. Nele, é possível criar componentes como:\n",
    "            botões, dropdowns, sliders etc.\n",
    "            \n",
    "            2.2.2. Geração de gráficos de balanços hídricos e diagramas de Gantt.\n",
    "\n",
    "\n",
    "\n",
    "<img src= \"Diagrama em branco(1).png\" > \n",
    "\n",
    "   \n"
   ]
  },
  {
   "cell_type": "markdown",
   "metadata": {},
   "source": [
    "------"
   ]
  },
  {
   "cell_type": "markdown",
   "metadata": {},
   "source": [
    "<h3>**Resultados Esperados**</h3>"
   ]
  },
  {
   "cell_type": "markdown",
   "metadata": {},
   "source": [
    "-----"
   ]
  },
  {
   "cell_type": "markdown",
   "metadata": {},
   "source": [
    "Um software que faça o processamento dos dados brutos gerados pelos sensores e pluviômetro, guarde-os em um banco de dados e    plote gráficos, permitindo a análise qualitativa da biorretenção."
   ]
  },
  {
   "cell_type": "markdown",
   "metadata": {},
   "source": [
    "----"
   ]
  },
  {
   "cell_type": "markdown",
   "metadata": {},
   "source": [
    "<h3>**Imagens**</h3>"
   ]
  },
  {
   "cell_type": "markdown",
   "metadata": {},
   "source": [
    "-------"
   ]
  },
  {
   "cell_type": "markdown",
   "metadata": {},
   "source": [
    "<img src= \"Local.jpg\" > \n",
    "<img src= \"graf1.jpg\" >\n"
   ]
  },
  {
   "cell_type": "code",
   "execution_count": null,
   "metadata": {},
   "outputs": [],
   "source": []
  }
 ],
 "metadata": {
  "kernelspec": {
   "display_name": "Python 3",
   "language": "python",
   "name": "python3"
  },
  "language_info": {
   "codemirror_mode": {
    "name": "ipython",
    "version": 3
   },
   "file_extension": ".py",
   "mimetype": "text/x-python",
   "name": "python",
   "nbconvert_exporter": "python",
   "pygments_lexer": "ipython3",
   "version": "3.6.5"
  }
 },
 "nbformat": 4,
 "nbformat_minor": 2
}
